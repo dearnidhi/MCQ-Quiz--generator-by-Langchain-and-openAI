{
 "cells": [
  {
   "cell_type": "code",
   "execution_count": 41,
   "id": "34a6ade4",
   "metadata": {},
   "outputs": [],
   "source": [
    "from langchain.llms import OpenAI\n",
    "from langchain.chat_models import ChatOpenAI\n",
    "from langchain.prompts import PromptTemplate\n",
    "from langchain.chains import LLMChain\n",
    "from langchain.chains import SequentialChain\n",
    "from langchain.callbacks import get_openai_callback\n",
    "import os\n",
    "import json\n",
    "import pandas as pd\n",
    "import traceback\n",
    "from dotenv import load_dotenv\n",
    "import PyPDF2\n"
   ]
  },
  {
   "cell_type": "code",
   "execution_count": 42,
   "id": "f9ca3f5f",
   "metadata": {},
   "outputs": [
    {
     "data": {
      "text/plain": [
       "True"
      ]
     },
     "execution_count": 42,
     "metadata": {},
     "output_type": "execute_result"
    }
   ],
   "source": [
    "load_dotenv()"
   ]
  },
  {
   "cell_type": "code",
   "execution_count": 43,
   "id": "ac24d917",
   "metadata": {},
   "outputs": [],
   "source": [
    "key = os.getenv(\"OPENAI_API_KEY\")"
   ]
  },
  {
   "cell_type": "code",
   "execution_count": 44,
   "id": "a0813184",
   "metadata": {},
   "outputs": [],
   "source": [
    "#print(key)"
   ]
  },
  {
   "cell_type": "code",
   "execution_count": 45,
   "id": "9ebcf213",
   "metadata": {},
   "outputs": [],
   "source": [
    "llm = ChatOpenAI(openai_api_key=key,model_name=\"gpt-3.5-turbo\", temperature=0.3)"
   ]
  },
  {
   "cell_type": "code",
   "execution_count": 46,
   "id": "09a6a117",
   "metadata": {},
   "outputs": [],
   "source": [
    "RESPONSE_JSON = {\n",
    "    \"1\": {\n",
    "        \"mcq\": \"multiple choice question\",\n",
    "        \"options\": {\n",
    "            \"a\": \"choice here\",\n",
    "            \"b\": \"choice here\",\n",
    "            \"c\": \"choice here\",\n",
    "            \"d\": \"choice here\",\n",
    "        },\n",
    "        \"correct\": \"correct answer\",\n",
    "    },\n",
    "    \"2\": {\n",
    "        \"mcq\": \"multiple choice question\",\n",
    "        \"options\": {\n",
    "            \"a\": \"choice here\",\n",
    "            \"b\": \"choice here\",\n",
    "            \"c\": \"choice here\",\n",
    "            \"d\": \"choice here\",\n",
    "        },\n",
    "        \"correct\": \"correct answer\",\n",
    "    },\n",
    "    \"3\": {\n",
    "        \"mcq\": \"multiple choice question\",\n",
    "        \"options\": {\n",
    "            \"a\": \"choice here\",\n",
    "            \"b\": \"choice here\",\n",
    "            \"c\": \"choice here\",\n",
    "            \"d\": \"choice here\",\n",
    "        },\n",
    "        \"correct\": \"correct answer\",\n",
    "    },\n",
    "}\n"
   ]
  },
  {
   "cell_type": "code",
   "execution_count": 47,
   "id": "b600aa4c",
   "metadata": {},
   "outputs": [
    {
     "data": {
      "text/plain": [
       "'\\nnumber=5 \\nsubject=\"data science\"\\ntone=\"simple\"\\n'"
      ]
     },
     "execution_count": 47,
     "metadata": {},
     "output_type": "execute_result"
    }
   ],
   "source": [
    "\"\"\"\n",
    "number=5 \n",
    "subject=\"data science\"\n",
    "tone=\"simple\"\n",
    "\"\"\""
   ]
  },
  {
   "cell_type": "code",
   "execution_count": 48,
   "id": "619fa64e",
   "metadata": {},
   "outputs": [],
   "source": [
    "TEMPLATE=\"\"\"\n",
    "Text:{text}\n",
    "You are an expert MCQ maker. Given the above text, it is your job to \\\n",
    "create a quiz  of {number} multiple choice questions for {subject} students in {tone} tone. \n",
    "Make sure the questions are not repeated and check all the questions to be conforming the text as well.\n",
    "Make sure to format your response like  RESPONSE_JSON below  and use it as a guide. \\\n",
    "Ensure to make {number} MCQs\n",
    "### RESPONSE_JSON\n",
    "{response_json}\n",
    "\n",
    "\"\"\""
   ]
  },
  {
   "cell_type": "code",
   "execution_count": 49,
   "id": "d27b1155",
   "metadata": {},
   "outputs": [],
   "source": [
    "quiz_generation_prompt = PromptTemplate(\n",
    "    input_variables=[\"text\", \"number\", \"subject\", \"tone\", \"response_json\"],\n",
    "    template=TEMPLATE\n",
    "    )\n"
   ]
  },
  {
   "cell_type": "code",
   "execution_count": 50,
   "id": "6a096a72",
   "metadata": {},
   "outputs": [
    {
     "data": {
      "text/plain": [
       "PromptTemplate(input_variables=['number', 'response_json', 'subject', 'text', 'tone'], template='\\nText:{text}\\nYou are an expert MCQ maker. Given the above text, it is your job to create a quiz  of {number} multiple choice questions for {subject} students in {tone} tone. \\nMake sure the questions are not repeated and check all the questions to be conforming the text as well.\\nMake sure to format your response like  RESPONSE_JSON below  and use it as a guide. Ensure to make {number} MCQs\\n### RESPONSE_JSON\\n{response_json}\\n\\n')"
      ]
     },
     "execution_count": 50,
     "metadata": {},
     "output_type": "execute_result"
    }
   ],
   "source": [
    "quiz_generation_prompt"
   ]
  },
  {
   "cell_type": "code",
   "execution_count": 51,
   "id": "3dfef61b",
   "metadata": {},
   "outputs": [],
   "source": [
    "quiz_chain=LLMChain(llm=llm, prompt=quiz_generation_prompt, output_key=\"quiz\", verbose=True)"
   ]
  },
  {
   "cell_type": "code",
   "execution_count": 1,
   "id": "4f7870d2",
   "metadata": {},
   "outputs": [],
   "source": [
    "#quiz_chain"
   ]
  },
  {
   "cell_type": "code",
   "execution_count": 53,
   "id": "d6312a8e",
   "metadata": {},
   "outputs": [],
   "source": [
    "TEMPLATE=\"\"\"\n",
    "You are an expert english grammarian and writer. Given a Multiple Choice Quiz for {subject} students.\\\n",
    "You need to evaluate the complexity of the question and give a complete analysis of the quiz. Only use at max 50 words for complexity analysis. \n",
    "if the quiz is not at per with the cognitive and analytical abilities of the students,\\\n",
    "update the quiz questions which needs to be changed and change the tone such that it perfectly fits the student abilities\n",
    "Quiz_MCQs:\n",
    "{quiz}\n",
    "\n",
    "Check from an expert English Writer of the above quiz:\n",
    "\"\"\""
   ]
  },
  {
   "cell_type": "code",
   "execution_count": 54,
   "id": "f28f18d4",
   "metadata": {},
   "outputs": [],
   "source": [
    "quiz_evaluation_prompt=PromptTemplate(input_variables=[\"subject\", \"quiz\"], template=TEMPLATE)"
   ]
  },
  {
   "cell_type": "code",
   "execution_count": 55,
   "id": "31f7e038",
   "metadata": {},
   "outputs": [],
   "source": [
    "review_chain=LLMChain(llm=llm, prompt=quiz_evaluation_prompt, output_key=\"review\", verbose=True)"
   ]
  },
  {
   "cell_type": "code",
   "execution_count": 56,
   "id": "961aea16",
   "metadata": {},
   "outputs": [],
   "source": [
    "generate_evaluate_chain=SequentialChain(chains=[quiz_chain, review_chain], input_variables=[\"text\", \"number\", \"subject\", \"tone\", \"response_json\"],\n",
    "                                        output_variables=[\"quiz\", \"review\"], verbose=True,)"
   ]
  },
  {
   "cell_type": "code",
   "execution_count": 57,
   "id": "8e683596",
   "metadata": {},
   "outputs": [
    {
     "data": {
      "text/plain": [
       "'pdf_reader=PyPDF2.PdfReader(r\"C:\\\\Complete_Content\\\\All_Project\\\\TEST_FOR_EVERYTHING\\\\langchain\\\\experiments\\\\Big Data Assessment.pdf\")\\ntext = \"\"\\nfor page in pdf_reader.pages:\\n    text += page.extract_text()'"
      ]
     },
     "execution_count": 57,
     "metadata": {},
     "output_type": "execute_result"
    }
   ],
   "source": [
    "\"\"\"pdf_reader=PyPDF2.PdfReader(r\"C:\\Complete_Content\\All_Project\\TEST_FOR_EVERYTHING\\langchain\\experiments\\Big Data Assessment.pdf\")\n",
    "text = \"\"\n",
    "for page in pdf_reader.pages:\n",
    "    text += page.extract_text()\"\"\""
   ]
  },
  {
   "cell_type": "code",
   "execution_count": 58,
   "id": "5a50d1c5",
   "metadata": {},
   "outputs": [],
   "source": [
    "from pathlib import Path\n",
    "file_path=r\"C:\\Users\\Admin\\Desktop\\mcq\\.gitignore\""
   ]
  },
  {
   "cell_type": "code",
   "execution_count": 59,
   "id": "9e24e9d3",
   "metadata": {},
   "outputs": [
    {
     "data": {
      "text/plain": [
       "'C:\\\\Users\\\\Admin\\\\Desktop\\\\mcq\\\\.gitignore'"
      ]
     },
     "execution_count": 59,
     "metadata": {},
     "output_type": "execute_result"
    }
   ],
   "source": [
    "file_path"
   ]
  },
  {
   "cell_type": "code",
   "execution_count": 60,
   "id": "e961afa2",
   "metadata": {},
   "outputs": [],
   "source": [
    "with open(file_path, 'r') as file:\n",
    "    TEXT = file.read()"
   ]
  },
  {
   "cell_type": "code",
   "execution_count": 61,
   "id": "ed73c2a0",
   "metadata": {},
   "outputs": [
    {
     "data": {
      "text/plain": [
       "'venv\\nenv\\n.env\\nQAsystem_with_haystack.egg-info'"
      ]
     },
     "execution_count": 61,
     "metadata": {},
     "output_type": "execute_result"
    }
   ],
   "source": [
    "TEXT\n"
   ]
  },
  {
   "cell_type": "code",
   "execution_count": 62,
   "id": "5f4e08fc",
   "metadata": {},
   "outputs": [
    {
     "data": {
      "text/plain": [
       "'{\"1\": {\"mcq\": \"multiple choice question\", \"options\": {\"a\": \"choice here\", \"b\": \"choice here\", \"c\": \"choice here\", \"d\": \"choice here\"}, \"correct\": \"correct answer\"}, \"2\": {\"mcq\": \"multiple choice question\", \"options\": {\"a\": \"choice here\", \"b\": \"choice here\", \"c\": \"choice here\", \"d\": \"choice here\"}, \"correct\": \"correct answer\"}, \"3\": {\"mcq\": \"multiple choice question\", \"options\": {\"a\": \"choice here\", \"b\": \"choice here\", \"c\": \"choice here\", \"d\": \"choice here\"}, \"correct\": \"correct answer\"}}'"
      ]
     },
     "execution_count": 62,
     "metadata": {},
     "output_type": "execute_result"
    }
   ],
   "source": [
    "# Serialize the Python dictionary into a JSON-formatted string\n",
    "json.dumps(RESPONSE_JSON)"
   ]
  },
  {
   "cell_type": "code",
   "execution_count": 63,
   "id": "c0a83c70",
   "metadata": {},
   "outputs": [
    {
     "data": {
      "text/plain": [
       "'mcq_count=5\\ngrade=1\\ntone=\"simple'"
      ]
     },
     "execution_count": 63,
     "metadata": {},
     "output_type": "execute_result"
    }
   ],
   "source": [
    "\"\"\"mcq_count=5\n",
    "grade=1\n",
    "tone=\"simple\"\"\""
   ]
  },
  {
   "cell_type": "code",
   "execution_count": 64,
   "metadata": {},
   "outputs": [],
   "source": [
    "NUMBER=5 \n",
    "SUBJECT=\"data science\"\n",
    "TONE=\"simple\"\n"
   ]
  },
  {
   "cell_type": "code",
   "execution_count": 65,
   "id": "dea3e2eb",
   "metadata": {},
   "outputs": [
    {
     "name": "stdout",
     "output_type": "stream",
     "text": [
      "\n",
      "\n",
      "\u001b[1m> Entering new SequentialChain chain...\u001b[0m\n",
      "\n",
      "\n",
      "\u001b[1m> Entering new LLMChain chain...\u001b[0m\n",
      "Prompt after formatting:\n",
      "\u001b[32;1m\u001b[1;3m\n",
      "Text:venv\n",
      "env\n",
      ".env\n",
      "QAsystem_with_haystack.egg-info\n",
      "You are an expert MCQ maker. Given the above text, it is your job to create a quiz  of 5 multiple choice questions for data science students in simple tone. \n",
      "Make sure the questions are not repeated and check all the questions to be conforming the text as well.\n",
      "Make sure to format your response like  RESPONSE_JSON below  and use it as a guide. Ensure to make 5 MCQs\n",
      "### RESPONSE_JSON\n",
      "{\"1\": {\"mcq\": \"multiple choice question\", \"options\": {\"a\": \"choice here\", \"b\": \"choice here\", \"c\": \"choice here\", \"d\": \"choice here\"}, \"correct\": \"correct answer\"}, \"2\": {\"mcq\": \"multiple choice question\", \"options\": {\"a\": \"choice here\", \"b\": \"choice here\", \"c\": \"choice here\", \"d\": \"choice here\"}, \"correct\": \"correct answer\"}, \"3\": {\"mcq\": \"multiple choice question\", \"options\": {\"a\": \"choice here\", \"b\": \"choice here\", \"c\": \"choice here\", \"d\": \"choice here\"}, \"correct\": \"correct answer\"}}\n",
      "\n",
      "\u001b[0m\n",
      "\n",
      "\u001b[1m> Finished chain.\u001b[0m\n",
      "\n",
      "\n",
      "\u001b[1m> Entering new LLMChain chain...\u001b[0m\n",
      "Prompt after formatting:\n",
      "\u001b[32;1m\u001b[1;3m\n",
      "You are an expert english grammarian and writer. Given a Multiple Choice Quiz for data science students.You need to evaluate the complexity of the question and give a complete analysis of the quiz. Only use at max 50 words for complexity analysis. \n",
      "if the quiz is not at per with the cognitive and analytical abilities of the students,update the quiz questions which needs to be changed and change the tone such that it perfectly fits the student abilities\n",
      "Quiz_MCQs:\n",
      "\n",
      "{\n",
      "    \"1\": {\n",
      "        \"mcq\": \"What is the purpose of venv in Python?\",\n",
      "        \"options\": {\n",
      "            \"a\": \"To create a virtual environment\",\n",
      "            \"b\": \"To install external libraries\",\n",
      "            \"c\": \"To run Python scripts\",\n",
      "            \"d\": \"To store data\"\n",
      "        },\n",
      "        \"correct\": \"a\"\n",
      "    },\n",
      "    \"2\": {\n",
      "        \"mcq\": \"Which of the following is used to specify environment variables in Python?\",\n",
      "        \"options\": {\n",
      "            \"a\": \"env\",\n",
      "            \"b\": \".env\",\n",
      "            \"c\": \"venv\",\n",
      "            \"d\": \"QAsystem_with_haystack.egg-info\"\n",
      "        },\n",
      "        \"correct\": \"b\"\n",
      "    },\n",
      "    \"3\": {\n",
      "        \"mcq\": \"What does the .env file typically contain?\",\n",
      "        \"options\": {\n",
      "            \"a\": \"Python code\",\n",
      "            \"b\": \"Configuration settings\",\n",
      "            \"c\": \"HTML markup\",\n",
      "            \"d\": \"Database queries\"\n",
      "        },\n",
      "        \"correct\": \"b\"\n",
      "    },\n",
      "    \"4\": {\n",
      "        \"mcq\": \"Which of the following is related to packaging in Python?\",\n",
      "        \"options\": {\n",
      "            \"a\": \"env\",\n",
      "            \"b\": \"venv\",\n",
      "            \"c\": \".env\",\n",
      "            \"d\": \"QAsystem_with_haystack.egg-info\"\n",
      "        },\n",
      "        \"correct\": \"d\"\n",
      "    },\n",
      "    \"5\": {\n",
      "        \"mcq\": \"What is the purpose of QAsystem_with_haystack.egg-info?\",\n",
      "        \"options\": {\n",
      "            \"a\": \"To create virtual environments\",\n",
      "            \"b\": \"To store data\",\n",
      "            \"c\": \"To package a Python project\",\n",
      "            \"d\": \"To run Python scripts\"\n",
      "        },\n",
      "        \"correct\": \"c\"\n",
      "    }\n",
      "}\n",
      "\n",
      "Check from an expert English Writer of the above quiz:\n",
      "\u001b[0m\n",
      "\n",
      "\u001b[1m> Finished chain.\u001b[0m\n",
      "\n",
      "\u001b[1m> Finished chain.\u001b[0m\n"
     ]
    }
   ],
   "source": [
    "#https://python.langchain.com/docs/modules/model_io/llms/token_usage_tracking\n",
    "\n",
    "#How to setup Token Usage Tracking in LangChain\n",
    "with get_openai_callback() as cb:\n",
    "    response=generate_evaluate_chain(\n",
    "        {\n",
    "            \"text\": TEXT,\n",
    "            \"number\": NUMBER,\n",
    "            \"subject\":SUBJECT,\n",
    "            \"tone\": TONE,\n",
    "            \"response_json\": json.dumps(RESPONSE_JSON)\n",
    "        }\n",
    "        )"
   ]
  },
  {
   "cell_type": "code",
   "execution_count": 66,
   "id": "1217c80f",
   "metadata": {},
   "outputs": [
    {
     "name": "stdout",
     "output_type": "stream",
     "text": [
      "Total Tokens:1205\n",
      "Prompt Tokens:765\n",
      "Completion Tokens:440\n",
      "Total Cost:0.0020275\n"
     ]
    }
   ],
   "source": [
    "print(f\"Total Tokens:{cb.total_tokens}\")\n",
    "print(f\"Prompt Tokens:{cb.prompt_tokens}\")\n",
    "print(f\"Completion Tokens:{cb.completion_tokens}\")\n",
    "print(f\"Total Cost:{cb.total_cost}\")"
   ]
  },
  {
   "cell_type": "code",
   "execution_count": 67,
   "id": "081b7de5",
   "metadata": {},
   "outputs": [
    {
     "data": {
      "text/plain": [
       "{'text': 'venv\\nenv\\n.env\\nQAsystem_with_haystack.egg-info',\n",
       " 'number': 5,\n",
       " 'subject': 'data science',\n",
       " 'tone': 'simple',\n",
       " 'response_json': '{\"1\": {\"mcq\": \"multiple choice question\", \"options\": {\"a\": \"choice here\", \"b\": \"choice here\", \"c\": \"choice here\", \"d\": \"choice here\"}, \"correct\": \"correct answer\"}, \"2\": {\"mcq\": \"multiple choice question\", \"options\": {\"a\": \"choice here\", \"b\": \"choice here\", \"c\": \"choice here\", \"d\": \"choice here\"}, \"correct\": \"correct answer\"}, \"3\": {\"mcq\": \"multiple choice question\", \"options\": {\"a\": \"choice here\", \"b\": \"choice here\", \"c\": \"choice here\", \"d\": \"choice here\"}, \"correct\": \"correct answer\"}}',\n",
       " 'quiz': '\\n{\\n    \"1\": {\\n        \"mcq\": \"What is the purpose of venv in Python?\",\\n        \"options\": {\\n            \"a\": \"To create a virtual environment\",\\n            \"b\": \"To install external libraries\",\\n            \"c\": \"To run Python scripts\",\\n            \"d\": \"To store data\"\\n        },\\n        \"correct\": \"a\"\\n    },\\n    \"2\": {\\n        \"mcq\": \"Which of the following is used to specify environment variables in Python?\",\\n        \"options\": {\\n            \"a\": \"env\",\\n            \"b\": \".env\",\\n            \"c\": \"venv\",\\n            \"d\": \"QAsystem_with_haystack.egg-info\"\\n        },\\n        \"correct\": \"b\"\\n    },\\n    \"3\": {\\n        \"mcq\": \"What does the .env file typically contain?\",\\n        \"options\": {\\n            \"a\": \"Python code\",\\n            \"b\": \"Configuration settings\",\\n            \"c\": \"HTML markup\",\\n            \"d\": \"Database queries\"\\n        },\\n        \"correct\": \"b\"\\n    },\\n    \"4\": {\\n        \"mcq\": \"Which of the following is related to packaging in Python?\",\\n        \"options\": {\\n            \"a\": \"env\",\\n            \"b\": \"venv\",\\n            \"c\": \".env\",\\n            \"d\": \"QAsystem_with_haystack.egg-info\"\\n        },\\n        \"correct\": \"d\"\\n    },\\n    \"5\": {\\n        \"mcq\": \"What is the purpose of QAsystem_with_haystack.egg-info?\",\\n        \"options\": {\\n            \"a\": \"To create virtual environments\",\\n            \"b\": \"To store data\",\\n            \"c\": \"To package a Python project\",\\n            \"d\": \"To run Python scripts\"\\n        },\\n        \"correct\": \"c\"\\n    }\\n}',\n",
       " 'review': 'The complexity of the quiz is moderate as it requires knowledge of Python programming concepts related to virtual environments, environment variables, and packaging. The questions are clear and concise, but some options could be more challenging to differentiate. Consider simplifying language and providing more context for beginner students.'}"
      ]
     },
     "execution_count": 67,
     "metadata": {},
     "output_type": "execute_result"
    }
   ],
   "source": [
    "response"
   ]
  },
  {
   "cell_type": "code",
   "execution_count": 68,
   "id": "f7f44814",
   "metadata": {},
   "outputs": [],
   "source": [
    "quiz_str=response.get(\"quiz\")"
   ]
  },
  {
   "cell_type": "code",
   "execution_count": 69,
   "id": "01d7a6f5",
   "metadata": {},
   "outputs": [],
   "source": [
    "quiz_dict = json.loads(quiz_str)"
   ]
  },
  {
   "cell_type": "code",
   "execution_count": 70,
   "id": "d5bf8fee",
   "metadata": {},
   "outputs": [
    {
     "data": {
      "text/plain": [
       "{'1': {'mcq': 'What is the purpose of venv in Python?',\n",
       "  'options': {'a': 'To create a virtual environment',\n",
       "   'b': 'To install external libraries',\n",
       "   'c': 'To run Python scripts',\n",
       "   'd': 'To store data'},\n",
       "  'correct': 'a'},\n",
       " '2': {'mcq': 'Which of the following is used to specify environment variables in Python?',\n",
       "  'options': {'a': 'env',\n",
       "   'b': '.env',\n",
       "   'c': 'venv',\n",
       "   'd': 'QAsystem_with_haystack.egg-info'},\n",
       "  'correct': 'b'},\n",
       " '3': {'mcq': 'What does the .env file typically contain?',\n",
       "  'options': {'a': 'Python code',\n",
       "   'b': 'Configuration settings',\n",
       "   'c': 'HTML markup',\n",
       "   'd': 'Database queries'},\n",
       "  'correct': 'b'},\n",
       " '4': {'mcq': 'Which of the following is related to packaging in Python?',\n",
       "  'options': {'a': 'env',\n",
       "   'b': 'venv',\n",
       "   'c': '.env',\n",
       "   'd': 'QAsystem_with_haystack.egg-info'},\n",
       "  'correct': 'd'},\n",
       " '5': {'mcq': 'What is the purpose of QAsystem_with_haystack.egg-info?',\n",
       "  'options': {'a': 'To create virtual environments',\n",
       "   'b': 'To store data',\n",
       "   'c': 'To package a Python project',\n",
       "   'd': 'To run Python scripts'},\n",
       "  'correct': 'c'}}"
      ]
     },
     "execution_count": 70,
     "metadata": {},
     "output_type": "execute_result"
    }
   ],
   "source": [
    "quiz_dict"
   ]
  },
  {
   "cell_type": "code",
   "execution_count": 71,
   "id": "0d302c99",
   "metadata": {},
   "outputs": [],
   "source": [
    "quiz_table_data = []\n",
    "for key, value in quiz_dict.items():\n",
    "    mcq = value[\"mcq\"]\n",
    "    options = \" | \".join(\n",
    "        [\n",
    "            f\"{option}: {option_value}\"\n",
    "            for option, option_value in value[\"options\"].items()\n",
    "            ]\n",
    "        )\n",
    "    correct = value[\"correct\"]\n",
    "    quiz_table_data.append({\"MCQ\": mcq, \"Choices\": options, \"Correct\": correct})"
   ]
  },
  {
   "cell_type": "code",
   "execution_count": 72,
   "id": "3f4ff8d8",
   "metadata": {},
   "outputs": [
    {
     "data": {
      "text/plain": [
       "[{'MCQ': 'What is the purpose of venv in Python?',\n",
       "  'Choices': 'a: To create a virtual environment | b: To install external libraries | c: To run Python scripts | d: To store data',\n",
       "  'Correct': 'a'},\n",
       " {'MCQ': 'Which of the following is used to specify environment variables in Python?',\n",
       "  'Choices': 'a: env | b: .env | c: venv | d: QAsystem_with_haystack.egg-info',\n",
       "  'Correct': 'b'},\n",
       " {'MCQ': 'What does the .env file typically contain?',\n",
       "  'Choices': 'a: Python code | b: Configuration settings | c: HTML markup | d: Database queries',\n",
       "  'Correct': 'b'},\n",
       " {'MCQ': 'Which of the following is related to packaging in Python?',\n",
       "  'Choices': 'a: env | b: venv | c: .env | d: QAsystem_with_haystack.egg-info',\n",
       "  'Correct': 'd'},\n",
       " {'MCQ': 'What is the purpose of QAsystem_with_haystack.egg-info?',\n",
       "  'Choices': 'a: To create virtual environments | b: To store data | c: To package a Python project | d: To run Python scripts',\n",
       "  'Correct': 'c'}]"
      ]
     },
     "execution_count": 72,
     "metadata": {},
     "output_type": "execute_result"
    }
   ],
   "source": [
    "quiz_table_data"
   ]
  },
  {
   "cell_type": "code",
   "execution_count": 73,
   "id": "4e4b5798",
   "metadata": {},
   "outputs": [],
   "source": [
    "df=pd.DataFrame(quiz_table_data)"
   ]
  },
  {
   "cell_type": "code",
   "execution_count": 74,
   "id": "93fae6a1",
   "metadata": {},
   "outputs": [
    {
     "data": {
      "text/html": [
       "<div>\n",
       "<style scoped>\n",
       "    .dataframe tbody tr th:only-of-type {\n",
       "        vertical-align: middle;\n",
       "    }\n",
       "\n",
       "    .dataframe tbody tr th {\n",
       "        vertical-align: top;\n",
       "    }\n",
       "\n",
       "    .dataframe thead th {\n",
       "        text-align: right;\n",
       "    }\n",
       "</style>\n",
       "<table border=\"1\" class=\"dataframe\">\n",
       "  <thead>\n",
       "    <tr style=\"text-align: right;\">\n",
       "      <th></th>\n",
       "      <th>MCQ</th>\n",
       "      <th>Choices</th>\n",
       "      <th>Correct</th>\n",
       "    </tr>\n",
       "  </thead>\n",
       "  <tbody>\n",
       "    <tr>\n",
       "      <th>0</th>\n",
       "      <td>What is the purpose of venv in Python?</td>\n",
       "      <td>a: To create a virtual environment | b: To ins...</td>\n",
       "      <td>a</td>\n",
       "    </tr>\n",
       "    <tr>\n",
       "      <th>1</th>\n",
       "      <td>Which of the following is used to specify envi...</td>\n",
       "      <td>a: env | b: .env | c: venv | d: QAsystem_with_...</td>\n",
       "      <td>b</td>\n",
       "    </tr>\n",
       "    <tr>\n",
       "      <th>2</th>\n",
       "      <td>What does the .env file typically contain?</td>\n",
       "      <td>a: Python code | b: Configuration settings | c...</td>\n",
       "      <td>b</td>\n",
       "    </tr>\n",
       "    <tr>\n",
       "      <th>3</th>\n",
       "      <td>Which of the following is related to packaging...</td>\n",
       "      <td>a: env | b: venv | c: .env | d: QAsystem_with_...</td>\n",
       "      <td>d</td>\n",
       "    </tr>\n",
       "    <tr>\n",
       "      <th>4</th>\n",
       "      <td>What is the purpose of QAsystem_with_haystack....</td>\n",
       "      <td>a: To create virtual environments | b: To stor...</td>\n",
       "      <td>c</td>\n",
       "    </tr>\n",
       "  </tbody>\n",
       "</table>\n",
       "</div>"
      ],
      "text/plain": [
       "                                                 MCQ  \\\n",
       "0             What is the purpose of venv in Python?   \n",
       "1  Which of the following is used to specify envi...   \n",
       "2         What does the .env file typically contain?   \n",
       "3  Which of the following is related to packaging...   \n",
       "4  What is the purpose of QAsystem_with_haystack....   \n",
       "\n",
       "                                             Choices Correct  \n",
       "0  a: To create a virtual environment | b: To ins...       a  \n",
       "1  a: env | b: .env | c: venv | d: QAsystem_with_...       b  \n",
       "2  a: Python code | b: Configuration settings | c...       b  \n",
       "3  a: env | b: venv | c: .env | d: QAsystem_with_...       d  \n",
       "4  a: To create virtual environments | b: To stor...       c  "
      ]
     },
     "execution_count": 74,
     "metadata": {},
     "output_type": "execute_result"
    }
   ],
   "source": [
    "df"
   ]
  },
  {
   "cell_type": "code",
   "execution_count": 75,
   "id": "eec54f0d",
   "metadata": {},
   "outputs": [],
   "source": [
    "df.to_csv(\"Data_Science_Quiz.csv\",index=False)"
   ]
  },
  {
   "cell_type": "code",
   "execution_count": 76,
   "id": "a38268f3",
   "metadata": {},
   "outputs": [
    {
     "name": "stderr",
     "output_type": "stream",
     "text": [
      "Traceback (most recent call last):\n",
      "  File \"C:\\Users\\Admin\\AppData\\Local\\Temp\\ipykernel_10064\\2720247763.py\", line 3, in <module>\n",
      "    c=1/0\n",
      "      ~^~\n",
      "ZeroDivisionError: division by zero\n"
     ]
    }
   ],
   "source": [
    "import traceback\n",
    "try:\n",
    "    c=1/0\n",
    "except Exception as e:\n",
    "        traceback.print_exception(type(e), e, e.__traceback__)"
   ]
  },
  {
   "cell_type": "code",
   "execution_count": 77,
   "id": "8e00aa40",
   "metadata": {},
   "outputs": [],
   "source": [
    "import traceback\n",
    "try:\n",
    "    c=1/0\n",
    "except Exception as e:\n",
    "    tb=e.__traceback__"
   ]
  },
  {
   "cell_type": "code",
   "execution_count": 78,
   "id": "5ff07add",
   "metadata": {},
   "outputs": [
    {
     "name": "stdout",
     "output_type": "stream",
     "text": [
      "File 'C:\\Users\\Admin\\AppData\\Local\\Temp\\ipykernel_10064\\977600961.py', line 5, in <module>\n"
     ]
    }
   ],
   "source": [
    "while tb is not None:\n",
    "    frame = tb.tb_frame\n",
    "    filename = frame.f_code.co_filename\n",
    "    lineno = frame.f_lineno\n",
    "    function_name = frame.f_code.co_name\n",
    "\n",
    "    print(f\"File '{filename}', line {lineno}, in {function_name}\")\n",
    "    tb = tb.tb_next  # Move to the next frame in the traceback"
   ]
  },
  {
   "cell_type": "code",
   "execution_count": null,
   "id": "37a4497d",
   "metadata": {},
   "outputs": [],
   "source": []
  },
  {
   "cell_type": "code",
   "execution_count": null,
   "id": "dee38b9c",
   "metadata": {},
   "outputs": [],
   "source": []
  }
 ],
 "metadata": {
  "kernelspec": {
   "display_name": "Python 3 (ipykernel)",
   "language": "python",
   "name": "python3"
  },
  "language_info": {
   "codemirror_mode": {
    "name": "ipython",
    "version": 3
   },
   "file_extension": ".py",
   "mimetype": "text/x-python",
   "name": "python",
   "nbconvert_exporter": "python",
   "pygments_lexer": "ipython3",
   "version": "3.11.4"
  }
 },
 "nbformat": 4,
 "nbformat_minor": 5
}
